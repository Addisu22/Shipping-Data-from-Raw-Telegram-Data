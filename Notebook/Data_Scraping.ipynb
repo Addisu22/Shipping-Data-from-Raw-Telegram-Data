{
 "cells": [
  {
   "cell_type": "markdown",
   "id": "e44007b2",
   "metadata": {},
   "source": [
    "### Task 1 - Data Scraping and Collection (Extract & Load)"
   ]
  },
  {
   "cell_type": "code",
   "execution_count": 15,
   "id": "30e8619d",
   "metadata": {},
   "outputs": [],
   "source": [
    "# %pip install telethon\n",
    "# %pip install psycopg2\n",
    "# %pip install pandas\n",
    "# %pip install matplotlib\n",
    "# %pip install numpy\n",
    "# %pip install psycopg2\n",
    "# %pip install dotenv"
   ]
  },
  {
   "cell_type": "code",
   "execution_count": 1,
   "id": "e358fb8a",
   "metadata": {},
   "outputs": [],
   "source": [
    "import os\n",
    "import sys\n",
    "import asyncio\n",
    "import psycopg2\n",
    "import pandas as pd\n",
    "import matplotlib.pyplot as plt\n",
    "from telethon.sync import TelegramClient\n",
    "from dotenv import load_dotenv\n",
    "from telethon import TelegramClient\n",
    "from telethon.tl.types import MessageMediaPhoto\n",
    "import numpy as np\n",
    "import json\n",
    "from pathlib import Path\n",
    "from datetime import datetime\n",
    "# Load .env file from the project root\n",
    "load_dotenv(dotenv_path=\"../.env\")  # adjust the path if needed\n",
    "import logging\n",
    "sys.path.append(os.path.abspath(\"../Script\"))\n",
    "import warnings\n",
    "warnings.filterwarnings('ignore')"
   ]
  },
  {
   "cell_type": "code",
   "execution_count": 2,
   "id": "caf5a7af",
   "metadata": {},
   "outputs": [
    {
     "name": "stdout",
     "output_type": "stream",
     "text": [
      "d:\\KAIM 5,6,7\\Week-7\\Technical\\Shipping-Data-from-Raw-Telegram-Data\n"
     ]
    }
   ],
   "source": [
    "os.chdir(\"..\") \n",
    "print(os.getcwd())"
   ]
  },
  {
   "cell_type": "code",
   "execution_count": 3,
   "id": "55897b1d",
   "metadata": {},
   "outputs": [],
   "source": [
    "# Access the variables\n",
    "api_id = os.getenv(\"tg_api_id\")\n",
    "api_hash = os.getenv(\"tg_api_hash\")\n",
    "session_name = os.getenv(\"session_name\")\n",
    "\n",
    "channels = {\n",
    "    \"lobelia4cosmetics\": \"https://t.me/lobelia4cosmetics\",\n",
    "    \"tikvahpharma\": \"https://t.me/tikvahpharma\"\n",
    "    # Add more from et.tgstat.com/medicine\n",
    "}\n",
    "\n",
    "raw_dir = Path(\"Data/raw/telegram_messages\")\n",
    "\n",
    "logging.basicConfig(filename=\"scrape.log\", level=logging.INFO)\n",
    "\n",
    "async def scrape_channel(channel_name, max_msgs=1000):\n",
    "    client = TelegramClient(\"async_session\", api_id, api_hash)\n",
    "    try:\n",
    "        await client.start()\n",
    "        messages = []\n",
    "        async for msg in client.iter_messages(channel_name, limit=max_msgs):\n",
    "            messages.append(msg.to_dict())\n",
    "        logging.info(f\"[{channel_name}] Scraped {len(messages)} messages.\")\n",
    "\n",
    "        # Save JSON\n",
    "        today = datetime.now().strftime(\"%Y-%m-%d\")\n",
    "        out_dir = raw_dir / today / channel_name\n",
    "        out_dir.mkdir(parents=True, exist_ok=True)\n",
    "        with open(out_dir / \"messages.json\", \"w\", encoding=\"utf-8\") as f:\n",
    "            json.dump(messages, f, ensure_ascii=False, indent=2)\n",
    "\n",
    "    except Exception as e:\n",
    "        logging.error(f\"Error scraping {channel_name}: {e}\")"
   ]
  },
  {
   "cell_type": "code",
   "execution_count": 23,
   "id": "69158a53",
   "metadata": {},
   "outputs": [],
   "source": [
    "await run()"
   ]
  },
  {
   "cell_type": "code",
   "execution_count": 7,
   "id": "a7e5ff4d",
   "metadata": {},
   "outputs": [],
   "source": [
    "from data_scraper import get_pgsql_connection"
   ]
  },
  {
   "cell_type": "code",
   "execution_count": 8,
   "id": "87942c81",
   "metadata": {},
   "outputs": [],
   "source": [
    "# Async image scraping function\n",
    "async def scrape_images_async(channel_username, limit=50):\n",
    "    client = TelegramClient(session_name, api_id, api_hash)\n",
    "    await client.start()\n",
    "    print(f\"Connected to Telegram. Scraping images from {channel_username}...\")\n",
    "\n",
    "    conn = get_pgsql_connection()\n",
    "    if conn is None:\n",
    "        return\n",
    "    cur = conn.cursor()\n",
    "\n",
    "    save_dir = os.path.join(\"images\", channel_username.strip(\"@\"))\n",
    "    os.makedirs(save_dir, exist_ok=True)\n",
    "\n",
    "    try:\n",
    "        async for message in client.iter_messages(channel_username,\n",
    "limit=limit):\n",
    "            if message.media and isinstance(message.media, MessageMediaPhoto):\n",
    "                try:\n",
    "                    file_name = f\"{message.id}.jpg\"\n",
    "                    file_path = os.path.join(save_dir, file_name)\n",
    "                    await client.download_media(message, file_path)\n",
    "\n",
    "                    cur.execute(\"\"\"\n",
    "                        INSERT INTO images (message_id, channel_name,file_name, file_path, posted_at)\n",
    "                        VALUES (%s, %s, %s, %s, %s)\n",
    "                        ON CONFLICT DO NOTHING\n",
    "                    \"\"\", (\n",
    "                        message.id,\n",
    "                        channel_username,\n",
    "                        file_name,\n",
    "                        file_path,\n",
    "                        message.date\n",
    "                    ))\n",
    "\n",
    "                    print(f\"Saved image: {file_name}\")\n",
    "                except Exception as insert_err:\n",
    "                    print(f\"Error inserting {message.id}: {insert_err}\")\n",
    "\n",
    "        conn.commit()\n",
    "    except Exception as scrape_err:\n",
    "        print(f\"Scraping failed: {scrape_err}\")\n",
    "    finally:\n",
    "        cur.close()\n",
    "        conn.close()\n",
    "        await client.disconnect()\n",
    "        print(\"Disconnected from Telegram.\")"
   ]
  },
  {
   "cell_type": "code",
   "execution_count": 9,
   "id": "89369c56",
   "metadata": {},
   "outputs": [
    {
     "ename": "OperationalError",
     "evalue": "database is locked",
     "output_type": "error",
     "traceback": [
      "\u001b[31m---------------------------------------------------------------------------\u001b[39m",
      "\u001b[31mOperationalError\u001b[39m                          Traceback (most recent call last)",
      "\u001b[36mCell\u001b[39m\u001b[36m \u001b[39m\u001b[32mIn[9]\u001b[39m\u001b[32m, line 1\u001b[39m\n\u001b[32m----> \u001b[39m\u001b[32m1\u001b[39m \u001b[38;5;28;01mawait\u001b[39;00m scrape_images_async(\u001b[33m\"\u001b[39m\u001b[33m@lobelia4cosmetics\u001b[39m\u001b[33m\"\u001b[39m, limit=\u001b[32m30\u001b[39m)\n",
      "\u001b[36mCell\u001b[39m\u001b[36m \u001b[39m\u001b[32mIn[8]\u001b[39m\u001b[32m, line 4\u001b[39m, in \u001b[36mscrape_images_async\u001b[39m\u001b[34m(channel_username, limit)\u001b[39m\n\u001b[32m      2\u001b[39m \u001b[38;5;28;01masync\u001b[39;00m \u001b[38;5;28;01mdef\u001b[39;00m\u001b[38;5;250m \u001b[39m\u001b[34mscrape_images_async\u001b[39m(channel_username, limit=\u001b[32m50\u001b[39m):\n\u001b[32m      3\u001b[39m     client = TelegramClient(session_name, api_id, api_hash)\n\u001b[32m----> \u001b[39m\u001b[32m4\u001b[39m     \u001b[38;5;28;01mawait\u001b[39;00m client.start()\n\u001b[32m      5\u001b[39m     \u001b[38;5;28mprint\u001b[39m(\u001b[33mf\u001b[39m\u001b[33m\"\u001b[39m\u001b[33mConnected to Telegram. Scraping images from \u001b[39m\u001b[38;5;132;01m{\u001b[39;00mchannel_username\u001b[38;5;132;01m}\u001b[39;00m\u001b[33m...\u001b[39m\u001b[33m\"\u001b[39m)\n\u001b[32m      7\u001b[39m     conn = get_pgsql_connection()\n",
      "\u001b[36mFile \u001b[39m\u001b[32md:\\KAIM 5,6,7\\Week-7\\Technical\\Shipping-Data-from-Raw-Telegram-Data\\.venv\\Lib\\site-packages\\telethon\\client\\auth.py:135\u001b[39m, in \u001b[36mAuthMethods._start\u001b[39m\u001b[34m(self, phone, password, bot_token, force_sms, code_callback, first_name, last_name, max_attempts)\u001b[39m\n\u001b[32m    131\u001b[39m \u001b[38;5;28;01masync\u001b[39;00m \u001b[38;5;28;01mdef\u001b[39;00m\u001b[38;5;250m \u001b[39m\u001b[34m_start\u001b[39m(\n\u001b[32m    132\u001b[39m         \u001b[38;5;28mself\u001b[39m: \u001b[33m'\u001b[39m\u001b[33mTelegramClient\u001b[39m\u001b[33m'\u001b[39m, phone, password, bot_token, force_sms,\n\u001b[32m    133\u001b[39m         code_callback, first_name, last_name, max_attempts):\n\u001b[32m    134\u001b[39m     \u001b[38;5;28;01mif\u001b[39;00m \u001b[38;5;129;01mnot\u001b[39;00m \u001b[38;5;28mself\u001b[39m.is_connected():\n\u001b[32m--> \u001b[39m\u001b[32m135\u001b[39m         \u001b[38;5;28;01mawait\u001b[39;00m \u001b[38;5;28mself\u001b[39m.connect()\n\u001b[32m    137\u001b[39m     \u001b[38;5;66;03m# Rather than using `is_user_authorized`, use `get_me`. While this is\u001b[39;00m\n\u001b[32m    138\u001b[39m     \u001b[38;5;66;03m# more expensive and needs to retrieve more data from the server, it\u001b[39;00m\n\u001b[32m    139\u001b[39m     \u001b[38;5;66;03m# enables the library to warn users trying to login to a different\u001b[39;00m\n\u001b[32m    140\u001b[39m     \u001b[38;5;66;03m# account. See #1172.\u001b[39;00m\n\u001b[32m    141\u001b[39m     me = \u001b[38;5;28;01mawait\u001b[39;00m \u001b[38;5;28mself\u001b[39m.get_me()\n",
      "\u001b[36mFile \u001b[39m\u001b[32md:\\KAIM 5,6,7\\Week-7\\Technical\\Shipping-Data-from-Raw-Telegram-Data\\.venv\\Lib\\site-packages\\telethon\\client\\telegrambaseclient.py:560\u001b[39m, in \u001b[36mTelegramBaseClient.connect\u001b[39m\u001b[34m(self)\u001b[39m\n\u001b[32m    549\u001b[39m \u001b[38;5;28;01mif\u001b[39;00m \u001b[38;5;129;01mnot\u001b[39;00m \u001b[38;5;28;01mawait\u001b[39;00m \u001b[38;5;28mself\u001b[39m._sender.connect(\u001b[38;5;28mself\u001b[39m._connection(\n\u001b[32m    550\u001b[39m     \u001b[38;5;28mself\u001b[39m.session.server_address,\n\u001b[32m    551\u001b[39m     \u001b[38;5;28mself\u001b[39m.session.port,\n\u001b[32m   (...)\u001b[39m\u001b[32m    556\u001b[39m )):\n\u001b[32m    557\u001b[39m     \u001b[38;5;66;03m# We don't want to init or modify anything if we were already connected\u001b[39;00m\n\u001b[32m    558\u001b[39m     \u001b[38;5;28;01mreturn\u001b[39;00m\n\u001b[32m--> \u001b[39m\u001b[32m560\u001b[39m \u001b[38;5;28;43mself\u001b[39;49m\u001b[43m.\u001b[49m\u001b[43msession\u001b[49m\u001b[43m.\u001b[49m\u001b[43mauth_key\u001b[49m = \u001b[38;5;28mself\u001b[39m._sender.auth_key\n\u001b[32m    561\u001b[39m \u001b[38;5;28mself\u001b[39m.session.save()\n\u001b[32m    563\u001b[39m \u001b[38;5;28;01mtry\u001b[39;00m:\n\u001b[32m    564\u001b[39m     \u001b[38;5;66;03m# See comment when saving entities to understand this hack\u001b[39;00m\n",
      "\u001b[36mFile \u001b[39m\u001b[32md:\\KAIM 5,6,7\\Week-7\\Technical\\Shipping-Data-from-Raw-Telegram-Data\\.venv\\Lib\\site-packages\\telethon\\sessions\\sqlite.py:180\u001b[39m, in \u001b[36mSQLiteSession.auth_key\u001b[39m\u001b[34m(self, value)\u001b[39m\n\u001b[32m    177\u001b[39m \u001b[38;5;129m@MemorySession\u001b[39m.auth_key.setter\n\u001b[32m    178\u001b[39m \u001b[38;5;28;01mdef\u001b[39;00m\u001b[38;5;250m \u001b[39m\u001b[34mauth_key\u001b[39m(\u001b[38;5;28mself\u001b[39m, value):\n\u001b[32m    179\u001b[39m     \u001b[38;5;28mself\u001b[39m._auth_key = value\n\u001b[32m--> \u001b[39m\u001b[32m180\u001b[39m     \u001b[38;5;28;43mself\u001b[39;49m\u001b[43m.\u001b[49m\u001b[43m_update_session_table\u001b[49m\u001b[43m(\u001b[49m\u001b[43m)\u001b[49m\n",
      "\u001b[36mFile \u001b[39m\u001b[32md:\\KAIM 5,6,7\\Week-7\\Technical\\Shipping-Data-from-Raw-Telegram-Data\\.venv\\Lib\\site-packages\\telethon\\sessions\\sqlite.py:194\u001b[39m, in \u001b[36mSQLiteSession._update_session_table\u001b[39m\u001b[34m(self)\u001b[39m\n\u001b[32m    188\u001b[39m c = \u001b[38;5;28mself\u001b[39m._cursor()\n\u001b[32m    189\u001b[39m \u001b[38;5;66;03m# While we can save multiple rows into the sessions table\u001b[39;00m\n\u001b[32m    190\u001b[39m \u001b[38;5;66;03m# currently we only want to keep ONE as the tables don't\u001b[39;00m\n\u001b[32m    191\u001b[39m \u001b[38;5;66;03m# tell us which auth_key's are usable and will work. Needs\u001b[39;00m\n\u001b[32m    192\u001b[39m \u001b[38;5;66;03m# some more work before being able to save auth_key's for\u001b[39;00m\n\u001b[32m    193\u001b[39m \u001b[38;5;66;03m# multiple DCs. Probably done differently.\u001b[39;00m\n\u001b[32m--> \u001b[39m\u001b[32m194\u001b[39m \u001b[43mc\u001b[49m\u001b[43m.\u001b[49m\u001b[43mexecute\u001b[49m\u001b[43m(\u001b[49m\u001b[33;43m'\u001b[39;49m\u001b[33;43mdelete from sessions\u001b[39;49m\u001b[33;43m'\u001b[39;49m\u001b[43m)\u001b[49m\n\u001b[32m    195\u001b[39m c.execute(\u001b[33m'\u001b[39m\u001b[33minsert or replace into sessions values (?,?,?,?,?)\u001b[39m\u001b[33m'\u001b[39m, (\n\u001b[32m    196\u001b[39m     \u001b[38;5;28mself\u001b[39m._dc_id,\n\u001b[32m    197\u001b[39m     \u001b[38;5;28mself\u001b[39m._server_address,\n\u001b[32m   (...)\u001b[39m\u001b[32m    200\u001b[39m     \u001b[38;5;28mself\u001b[39m._takeout_id\n\u001b[32m    201\u001b[39m ))\n\u001b[32m    202\u001b[39m c.close()\n",
      "\u001b[31mOperationalError\u001b[39m: database is locked"
     ]
    }
   ],
   "source": [
    "await scrape_images_async(\"@lobelia4cosmetics\", limit=30)"
   ]
  }
 ],
 "metadata": {
  "kernelspec": {
   "display_name": ".venv",
   "language": "python",
   "name": "python3"
  },
  "language_info": {
   "codemirror_mode": {
    "name": "ipython",
    "version": 3
   },
   "file_extension": ".py",
   "mimetype": "text/x-python",
   "name": "python",
   "nbconvert_exporter": "python",
   "pygments_lexer": "ipython3",
   "version": "3.11.0"
  }
 },
 "nbformat": 4,
 "nbformat_minor": 5
}
