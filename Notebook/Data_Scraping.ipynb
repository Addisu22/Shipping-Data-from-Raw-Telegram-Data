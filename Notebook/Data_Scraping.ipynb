{
 "cells": [
  {
   "cell_type": "markdown",
   "id": "e44007b2",
   "metadata": {},
   "source": [
    "### Task 1 - Data Scraping and Collection (Extract & Load)"
   ]
  },
  {
   "cell_type": "code",
   "execution_count": 15,
   "id": "30e8619d",
   "metadata": {},
   "outputs": [],
   "source": [
    "# %pip install telethon\n",
    "# %pip install psycopg2\n",
    "# %pip install pandas\n",
    "# %pip install matplotlib\n",
    "# %pip install numpy\n",
    "# %pip install psycopg2\n",
    "# %pip install dotenv"
   ]
  },
  {
   "cell_type": "code",
   "execution_count": 21,
   "id": "e358fb8a",
   "metadata": {},
   "outputs": [],
   "source": [
    "import os\n",
    "import sys\n",
    "import asyncio\n",
    "import psycopg2\n",
    "import pandas as pd\n",
    "import matplotlib.pyplot as plt\n",
    "from telethon.sync import TelegramClient\n",
    "from dotenv import load_dotenv\n",
    "import numpy as np\n",
    "import json\n",
    "from pathlib import Path\n",
    "from datetime import datetime\n",
    "# Load .env file from the project root\n",
    "load_dotenv(dotenv_path=\"../.env\")  # adjust the path if needed\n",
    "import logging\n",
    "import warnings\n",
    "warnings.filterwarnings('ignore')"
   ]
  },
  {
   "cell_type": "code",
   "execution_count": 2,
   "id": "caf5a7af",
   "metadata": {},
   "outputs": [
    {
     "name": "stdout",
     "output_type": "stream",
     "text": [
      "d:\\KAIM 5,6,7\\Week-7\\Technical\\Shipping-Data-from-Raw-Telegram-Data\n"
     ]
    }
   ],
   "source": [
    "os.chdir(\"..\") \n",
    "print(os.getcwd())"
   ]
  },
  {
   "cell_type": "code",
   "execution_count": 22,
   "id": "55897b1d",
   "metadata": {},
   "outputs": [],
   "source": [
    "# Access the variables\n",
    "api_id = os.getenv(\"tg_api_id\")\n",
    "api_hash = os.getenv(\"tg_api_hash\")\n",
    "session = os.getenv(\"session_name\")\n",
    "\n",
    "channels = {\n",
    "    \"lobelia4cosmetics\": \"https://t.me/lobelia4cosmetics\",\n",
    "    \"tikvahpharma\": \"https://t.me/tikvahpharma\"\n",
    "    # Add more from et.tgstat.com/medicine\n",
    "}\n",
    "\n",
    "raw_dir = Path(\"Data/raw/telegram_messages\")\n",
    "\n",
    "logging.basicConfig(filename=\"scrape.log\", level=logging.INFO)\n",
    "\n",
    "async def scrape_channel(channel_name, max_msgs=1000):\n",
    "    client = TelegramClient(\"async_session\", api_id, api_hash)\n",
    "    try:\n",
    "        await client.start()\n",
    "        messages = []\n",
    "        async for msg in client.iter_messages(channel_name, limit=max_msgs):\n",
    "            messages.append(msg.to_dict())\n",
    "        logging.info(f\"[{channel_name}] Scraped {len(messages)} messages.\")\n",
    "\n",
    "        # Save JSON\n",
    "        today = datetime.now().strftime(\"%Y-%m-%d\")\n",
    "        out_dir = raw_dir / today / channel_name\n",
    "        out_dir.mkdir(parents=True, exist_ok=True)\n",
    "        with open(out_dir / \"messages.json\", \"w\", encoding=\"utf-8\") as f:\n",
    "            json.dump(messages, f, ensure_ascii=False, indent=2)\n",
    "\n",
    "    except Exception as e:\n",
    "        logging.error(f\"Error scraping {channel_name}: {e}\")"
   ]
  },
  {
   "cell_type": "code",
   "execution_count": 23,
   "id": "69158a53",
   "metadata": {},
   "outputs": [],
   "source": [
    "await run()"
   ]
  }
 ],
 "metadata": {
  "kernelspec": {
   "display_name": ".venv",
   "language": "python",
   "name": "python3"
  },
  "language_info": {
   "codemirror_mode": {
    "name": "ipython",
    "version": 3
   },
   "file_extension": ".py",
   "mimetype": "text/x-python",
   "name": "python",
   "nbconvert_exporter": "python",
   "pygments_lexer": "ipython3",
   "version": "3.11.0"
  }
 },
 "nbformat": 4,
 "nbformat_minor": 5
}
