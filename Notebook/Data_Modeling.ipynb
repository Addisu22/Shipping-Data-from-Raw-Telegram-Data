{
 "cells": [
  {
   "cell_type": "markdown",
   "id": "ded178d2",
   "metadata": {},
   "source": [
    "### Task 2 -  Data Modeling and Transformation (Transform)"
   ]
  },
  {
   "cell_type": "code",
   "execution_count": 3,
   "id": "055a8dd1",
   "metadata": {},
   "outputs": [],
   "source": [
    "import os\n",
    "import asyncio\n",
    "import psycopg2\n",
    "from telethon import TelegramClient\n",
    "from telethon.tl.types import MessageMediaPhoto\n",
    "from dotenv import load_dotenv\n",
    "import sys\n",
    "sys.path.append(os.path.abspath(\"../Script\"))\n",
    "from datetime import datetime\n",
    "import warnings\n",
    "warnings.filterwarnings('ignore')"
   ]
  },
  {
   "cell_type": "code",
   "execution_count": 2,
   "id": "80242564",
   "metadata": {},
   "outputs": [],
   "source": [
    "os.chdir(\"..\") \n",
    "# print(os.getcwd())"
   ]
  },
  {
   "cell_type": "code",
   "execution_count": 4,
   "id": "63ac25c7",
   "metadata": {},
   "outputs": [
    {
     "ename": "ModuleNotFoundError",
     "evalue": "No module named 'data_scraper'",
     "output_type": "error",
     "traceback": [
      "\u001b[31m---------------------------------------------------------------------------\u001b[39m",
      "\u001b[31mModuleNotFoundError\u001b[39m                       Traceback (most recent call last)",
      "\u001b[36mCell\u001b[39m\u001b[36m \u001b[39m\u001b[32mIn[4]\u001b[39m\u001b[32m, line 1\u001b[39m\n\u001b[32m----> \u001b[39m\u001b[32m1\u001b[39m \u001b[38;5;28;01mfrom\u001b[39;00m\u001b[38;5;250m \u001b[39m\u001b[34;01mdata_scraper\u001b[39;00m\u001b[38;5;250m \u001b[39m\u001b[38;5;28;01mimport\u001b[39;00m *\n",
      "\u001b[31mModuleNotFoundError\u001b[39m: No module named 'data_scraper'"
     ]
    }
   ],
   "source": [
    "from data_scraper import *"
   ]
  },
  {
   "cell_type": "code",
   "execution_count": 3,
   "id": "27195c64",
   "metadata": {},
   "outputs": [],
   "source": [
    "# Load environment variables\n",
    "load_dotenv(dotenv_path=\"../.env\")  # adjust the path if needed\n",
    "# Access the variables\n",
    "api_id = os.getenv(\"tg_api_id\")\n",
    "api_hash = os.getenv(\"tg_api_hash\")\n",
    "session = os.getenv(\"session_name\")\n",
    "# PostgreSQL connection\n",
    "def get_pgsql_connection():\n",
    "    try:\n",
    "        conn = psycopg2.connect(\n",
    "          host=\"localhost\",\n",
    "          port=5432,\n",
    "          database=\"telegram\",\n",
    "          user=\"postgres\",\n",
    "          password=\"Admin#123\"\n",
    "        )\n",
    "        return conn\n",
    "    except Exception as e:\n",
    "        print(f\"PostgreSQL connection error: {e}\")\n",
    "        return None\n",
    "\n",
    "# Async image scraping function\n",
    "async def scrape_images_async(channel_username, limit=50):\n",
    "    client = TelegramClient(session_name, api_id, api_hash)\n",
    "    await client.start()\n",
    "    print(f\"Connected to Telegram. Scraping images from {channel_username}...\")\n",
    "\n",
    "    conn = get_pgsql_connection()\n",
    "    if conn is None:\n",
    "        return\n",
    "    cur = conn.cursor()\n",
    "\n",
    "    save_dir = os.path.join(\"images\", channel_username.strip(\"@\"))\n",
    "    os.makedirs(save_dir, exist_ok=True)\n",
    "\n",
    "    try:\n",
    "        async for message in client.iter_messages(channel_username,\n",
    "limit=limit):\n",
    "            if message.media and isinstance(message.media, MessageMediaPhoto):\n",
    "                try:\n",
    "                    file_name = f\"{message.id}.jpg\"\n",
    "                    file_path = os.path.join(save_dir, file_name)\n",
    "                    await client.download_media(message, file_path)\n",
    "\n",
    "                    cur.execute(\"\"\"\n",
    "                        INSERT INTO images (message_id, channel_name,\n",
    "file_name, file_path, posted_at)\n",
    "                        VALUES (%s, %s, %s, %s, %s)\n",
    "                        ON CONFLICT DO NOTHING\n",
    "                    \"\"\", (\n",
    "                        message.id,\n",
    "                        channel_username,\n",
    "                        file_name,\n",
    "                        file_path,\n",
    "                        message.date\n",
    "                    ))\n",
    "\n",
    "                    print(f\"Saved image: {file_name}\")\n",
    "                except Exception as insert_err:\n",
    "                    print(f\"Error inserting {message.id}: {insert_err}\")\n",
    "\n",
    "        conn.commit()\n",
    "    except Exception as scrape_err:\n",
    "        print(f\"Scraping failed: {scrape_err}\")\n",
    "    finally:\n",
    "        cur.close()\n",
    "        conn.close()\n",
    "        await client.disconnect()\n",
    "        print(\"Disconnected from Telegram.\")"
   ]
  }
 ],
 "metadata": {
  "kernelspec": {
   "display_name": ".venv",
   "language": "python",
   "name": "python3"
  },
  "language_info": {
   "codemirror_mode": {
    "name": "ipython",
    "version": 3
   },
   "file_extension": ".py",
   "mimetype": "text/x-python",
   "name": "python",
   "nbconvert_exporter": "python",
   "pygments_lexer": "ipython3",
   "version": "3.11.0"
  }
 },
 "nbformat": 4,
 "nbformat_minor": 5
}
