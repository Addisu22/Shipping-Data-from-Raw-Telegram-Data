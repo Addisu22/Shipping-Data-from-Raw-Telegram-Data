{
 "cells": [
  {
   "cell_type": "markdown",
   "id": "ded178d2",
   "metadata": {},
   "source": [
    "### Task 2 -  Data Modeling and Transformation (Transform)"
   ]
  },
  {
   "cell_type": "code",
   "execution_count": 1,
   "id": "055a8dd1",
   "metadata": {},
   "outputs": [],
   "source": [
    "import os\n",
    "import asyncio\n",
    "import psycopg2\n",
    "from telethon import TelegramClient\n",
    "from telethon.tl.types import MessageMediaPhoto\n",
    "from dotenv import load_dotenv\n",
    "import sys\n",
    "sys.path.append(os.path.abspath(\"../Script\"))\n",
    "from datetime import datetime\n",
    "import warnings\n",
    "warnings.filterwarnings('ignore')"
   ]
  },
  {
   "cell_type": "code",
   "execution_count": 2,
   "id": "80242564",
   "metadata": {},
   "outputs": [],
   "source": [
    "os.chdir(\"..\") \n",
    "# print(os.getcwd())"
   ]
  },
  {
   "cell_type": "code",
   "execution_count": 8,
   "id": "63ac25c7",
   "metadata": {},
   "outputs": [],
   "source": [
    "from data_scraper import get_pgsql_connection"
   ]
  },
  {
   "cell_type": "code",
   "execution_count": 16,
   "id": "27195c64",
   "metadata": {},
   "outputs": [],
   "source": [
    "# Load environment variables\n",
    "load_dotenv(dotenv_path=\"../.env\")  # adjust the path if needed\n",
    "# Access the variables\n",
    "api_id = os.getenv(\"tg_api_id\")\n",
    "api_hash = os.getenv(\"tg_api_hash\")\n",
    "session_name = os.getenv(\"session_name\")\n",
    "# PostgreSQL connection\n",
    "# get_con = get_pgsql_connection()\n",
    "\n",
    "# Async image scraping function\n",
    "async def scrape_images_async(channel_username, limit=50):\n",
    "    client = TelegramClient(session_name, api_id, api_hash)\n",
    "    await client.start()\n",
    "    print(f\"Connected to Telegram. Scraping images from {channel_username}...\")\n",
    "\n",
    "    conn = get_pgsql_connection()\n",
    "    if conn is None:\n",
    "        return\n",
    "    cur = conn.cursor()\n",
    "\n",
    "    save_dir = os.path.join(\"images\", channel_username.strip(\"@\"))\n",
    "    os.makedirs(save_dir, exist_ok=True)\n",
    "\n",
    "    try:\n",
    "        async for message in client.iter_messages(channel_username,\n",
    "limit=limit):\n",
    "            if message.media and isinstance(message.media, MessageMediaPhoto):\n",
    "                try:\n",
    "                    file_name = f\"{message.id}.jpg\"\n",
    "                    file_path = os.path.join(save_dir, file_name)\n",
    "                    await client.download_media(message, file_path)\n",
    "\n",
    "                    cur.execute(\"\"\"\n",
    "                        INSERT INTO images (message_id, channel_name,\n",
    "file_name, file_path, posted_at)\n",
    "                        VALUES (%s, %s, %s, %s, %s)\n",
    "                        ON CONFLICT DO NOTHING\n",
    "                    \"\"\", (\n",
    "                        message.id,\n",
    "                        channel_username,\n",
    "                        file_name,\n",
    "                        file_path,\n",
    "                        message.date\n",
    "                    ))\n",
    "\n",
    "                    print(f\"Saved image: {file_name}\")\n",
    "                except Exception as insert_err:\n",
    "                    print(f\"Error inserting {message.id}: {insert_err}\")\n",
    "\n",
    "        conn.commit()\n",
    "    except Exception as scrape_err:\n",
    "        print(f\"Scraping failed: {scrape_err}\")\n",
    "    finally:\n",
    "        cur.close()\n",
    "        conn.close()\n",
    "        await client.disconnect()\n",
    "        print(\"Disconnected from Telegram.\")"
   ]
  },
  {
   "cell_type": "code",
   "execution_count": null,
   "id": "625eb02e",
   "metadata": {},
   "outputs": [
    {
     "name": "stdout",
     "output_type": "stream",
     "text": [
      "Connected to Telegram. Scraping images from @lobelia4cosmetics...\n",
      "PostgreSQL connection error: connection to server at \"localhost\" (::1), port 5432 failed: FATAL:  password authentication failed for user \"postgres\"\n",
      "\n"
     ]
    },
    {
     "name": "stderr",
     "output_type": "stream",
     "text": [
      "Cannot get difference since the account is likely misusing the session: database is locked\n",
      "Unhandled exception from keepalive_handle after cancelling <class '_asyncio.Task'> (<Task finished name='Task-723' coro=<UpdateMethods._keepalive_loop() done, defined at d:\\KAIM 5,6,7\\Week-7\\Technical\\Shipping-Data-from-Raw-Telegram-Data\\.venv\\Lib\\site-packages\\telethon\\client\\updates.py:481> exception=OperationalError('database is locked')>)\n",
      "Traceback (most recent call last):\n",
      "  File \"d:\\KAIM 5,6,7\\Week-7\\Technical\\Shipping-Data-from-Raw-Telegram-Data\\.venv\\Lib\\site-packages\\telethon\\helpers.py\", line 176, in _cancel\n",
      "    await task\n",
      "  File \"d:\\KAIM 5,6,7\\Week-7\\Technical\\Shipping-Data-from-Raw-Telegram-Data\\.venv\\Lib\\site-packages\\telethon\\client\\updates.py\", line 517, in _keepalive_loop\n",
      "    self._save_states_and_entities()\n",
      "  File \"d:\\KAIM 5,6,7\\Week-7\\Technical\\Shipping-Data-from-Raw-Telegram-Data\\.venv\\Lib\\site-packages\\telethon\\client\\telegrambaseclient.py\", line 694, in _save_states_and_entities\n",
      "    self.session.process_entities(types.contacts.ResolvedPeer(None, [e._as_input_peer() for e in entities], []))\n",
      "  File \"d:\\KAIM 5,6,7\\Week-7\\Technical\\Shipping-Data-from-Raw-Telegram-Data\\.venv\\Lib\\site-packages\\telethon\\sessions\\sqlite.py\", line 301, in process_entities\n",
      "    c.executemany(\n",
      "sqlite3.OperationalError: database is locked\n"
     ]
    }
   ],
   "source": [
    "await scrape_images_async(\"@lobelia4cosmetics\", limit=30)"
   ]
  }
 ],
 "metadata": {
  "kernelspec": {
   "display_name": ".venv",
   "language": "python",
   "name": "python3"
  },
  "language_info": {
   "codemirror_mode": {
    "name": "ipython",
    "version": 3
   },
   "file_extension": ".py",
   "mimetype": "text/x-python",
   "name": "python",
   "nbconvert_exporter": "python",
   "pygments_lexer": "ipython3",
   "version": "3.11.0"
  }
 },
 "nbformat": 4,
 "nbformat_minor": 5
}
