{
 "cells": [
  {
   "cell_type": "code",
   "execution_count": null,
   "id": "7790cf4d",
   "metadata": {
    "vscode": {
     "languageId": "plaintext"
    }
   },
   "outputs": [],
   "source": []
  },
  {
   "cell_type": "markdown",
   "id": "7f722be1",
   "metadata": {},
   "source": []
  },
  {
   "cell_type": "markdown",
   "id": "d69e597f",
   "metadata": {},
   "source": []
  },
  {
   "cell_type": "code",
   "execution_count": null,
   "id": "cc9c5677",
   "metadata": {
    "vscode": {
     "languageId": "plaintext"
    }
   },
   "outputs": [],
   "source": [
    "import asyncio\n",
    "from app.scraper import scrape_channel\n",
    "\n",
    "channels = [\"@lobelia4cosmetics\", \"@tikvahpharma\", \"@chemed_ethio\"]\n",
    "\n",
    "for ch in channels:\n",
    "    asyncio.run(scrape_channel(ch, limit=50))\n"
   ]
  }
 ],
 "metadata": {
  "language_info": {
   "name": "python"
  }
 },
 "nbformat": 4,
 "nbformat_minor": 5
}
