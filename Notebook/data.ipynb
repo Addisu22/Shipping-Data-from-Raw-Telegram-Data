{
 "cells": [
  {
   "cell_type": "markdown",
   "id": "46a2767b",
   "metadata": {},
   "source": []
  },
  {
   "cell_type": "code",
   "execution_count": null,
   "id": "f9dadbaa",
   "metadata": {},
   "outputs": [],
   "source": [
    "import os\n",
    "import json\n",
    "import psycopg2\n",
    "from dotenv import load_dotenv\n",
    "\n",
    "load_dotenv()\n",
    "\n",
    "def get_pgsql_connection():\n",
    "    return psycopg2.connect(\n",
    "        host=os.getenv(\"pgsql_host\"),\n",
    "        port=os.getenv(\"pgsql_port\"),\n",
    "        database=os.getenv(\"pgsql_db\"),\n",
    "        user=os.getenv(\"pgsql_user\"),\n",
    "        password=os.getenv(\"pgsql_pass\")\n",
    "    )\n",
    "\n",
    "def load_json_to_raw_table(json_path):\n",
    "    conn = get_pgsql_connection()\n",
    "    cur = conn.cursor()\n",
    "\n",
    "    # Create schema and table if not exists\n",
    "    cur.execute(\"CREATE SCHEMA IF NOT EXISTS raw;\")\n",
    "    cur.execute(\"\"\"\n",
    "        CREATE TABLE IF NOT EXISTS raw.telegram_messages (\n",
    "            message_id INTEGER,\n",
    "            sender TEXT,\n",
    "            date TIMESTAMP,\n",
    "            content TEXT,\n",
    "            media_url TEXT,\n",
    "            channel_name TEXT\n",
    "        );\n",
    "    \"\"\")\n",
    "\n",
    "    with open(json_path, 'r', encoding='utf-8') as f:\n",
    "        messages = json.load(f)\n",
    "\n",
    "    for msg in messages:\n",
    "        cur.execute(\"\"\"\n",
    "            INSERT INTO raw.telegram_messages (message_id, sender, date, content, media_url, channel_name)\n",
    "            VALUES (%s, %s, %s, %s, %s, %s)\n",
    "        \"\"\", (\n",
    "            msg.get(\"message_id\"),\n",
    "            msg.get(\"sender\"),\n",
    "            msg.get(\"date\"),\n",
    "            msg.get(\"content\"),\n",
    "            msg.get(\"media_url\"),\n",
    "            msg.get(\"channel_name\")\n",
    "        ))\n",
    "\n",
    "    conn.commit()\n",
    "    cur.close()\n",
    "    conn.close()\n",
    "    print(\"Loaded raw messages into raw.telegram_messages\")\n",
    "\n",
    "# Example usage\n",
    "load_json_to_raw_table(\"Data/raw/telegram_messages/2025-07-10/lobelia4cosmetics.json\")"
   ]
  }
 ],
 "metadata": {
  "kernelspec": {
   "display_name": ".venv",
   "language": "python",
   "name": "python3"
  },
  "language_info": {
   "codemirror_mode": {
    "name": "ipython",
    "version": 3
   },
   "file_extension": ".py",
   "mimetype": "text/x-python",
   "name": "python",
   "nbconvert_exporter": "python",
   "pygments_lexer": "ipython3",
   "version": "3.11.0"
  }
 },
 "nbformat": 4,
 "nbformat_minor": 5
}
